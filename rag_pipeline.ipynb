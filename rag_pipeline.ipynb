{
 "cells": [
  {
   "cell_type": "code",
   "execution_count": 1,
   "metadata": {},
   "outputs": [],
   "source": [
    "import os\n",
    "import getpass\n",
    "os.environ['LANGCHAIN_TRACING_V2'] = 'true'\n"
   ]
  },
  {
   "cell_type": "code",
   "execution_count": 2,
   "metadata": {},
   "outputs": [],
   "source": [
    "from langchain_openai import ChatOpenAI\n",
    "llm = ChatOpenAI(model=\"gpt-4o-mini\")"
   ]
  },
  {
   "cell_type": "code",
   "execution_count": 3,
   "metadata": {},
   "outputs": [],
   "source": [
    "pdf_path = 'pdfs'\n",
    "pdf_files = [os.path.join(pdf_path, f) for f in os.listdir(pdf_path) if f.endswith('.pdf')]"
   ]
  },
  {
   "cell_type": "code",
   "execution_count": 4,
   "metadata": {},
   "outputs": [],
   "source": [
    "pdf_files = [ # always dict with keys path, title, authors\n",
    "     {'path': 'pdfs/1706.03762v7.pdf', 'title': 'Attention Is All You Need', 'authors': 'Vaswani, Ashish and Shazeer, Noam and Parmar, Niki and Uszkoreit, Jakob and Jones, Llion and Gomez, Aidan N and Kaiser, Lukasz and Polosukhin, Illia'},\n",
    "     {'path': 'pdfs/srivastava14a.pdf', 'title': 'Dropout: A Simple Way to Prevent Neural Networks from Overfitting', 'authors': 'Srivastava, Nitish and Hinton, Geoffrey and Krizhevsky, Alex and Sutskever, Ilya and Salakhutdinov, Ruslan'}\n",
    "]"
   ]
  },
  {
   "cell_type": "code",
   "execution_count": 5,
   "metadata": {},
   "outputs": [],
   "source": [
    "from langchain_community.document_loaders import PyPDFLoader\n",
    "from langchain_openai import OpenAIEmbeddings\n",
    "from langchain_text_splitters import RecursiveCharacterTextSplitter\n",
    "from langchain_chroma import Chroma\n",
    "\n",
    "gather_pages = []\n",
    "for pdf_file in pdf_files:\n",
    "    # PdPDFLoader excepts strings as file paths, allows to extract images via extract_images = True\n",
    "    loader = PyPDFLoader(pdf_file[\"path\"])\n",
    "    pages = loader.load_and_split()\n",
    "    metadata = f\"Title: {pdf_file['title']}\\nAuthors: {pdf_file['authors']}\"\n",
    "    for page in pages:\n",
    "        page.metadata[\"source\"] = metadata\n",
    "    gather_pages.extend(pages)\n",
    "\n",
    "text_splitter = RecursiveCharacterTextSplitter(chunk_size=500, chunk_overlap=100)\n",
    "splits = text_splitter.split_documents(gather_pages)\n",
    "\n",
    "vectorstore = Chroma.from_documents(documents=splits, embedding=OpenAIEmbeddings(model=\"text-embedding-3-small\"), persist_directory=\"db/\")"
   ]
  },
  {
   "cell_type": "code",
   "execution_count": 50,
   "metadata": {},
   "outputs": [],
   "source": [
    "vectorstore = Chroma(embedding_function=OpenAIEmbeddings(model=\"text-embedding-3-small\"), persist_directory=\"db/\")"
   ]
  },
  {
   "cell_type": "code",
   "execution_count": 51,
   "metadata": {},
   "outputs": [],
   "source": [
    "def format_context(context):\n",
    "    \"\"\"Format the context for the prompt.\n",
    "    Args:\n",
    "        context: list of tuples (document, score) from the retriever\n",
    "    Returns:\n",
    "        str: formatted context\n",
    "    \"\"\"\n",
    "    output = \"\"\n",
    "    for doc in context:\n",
    "        output += doc[0].metadata[\"source\"] + f\"\\nPage: {doc[0].metadata['page']}\" +\\\n",
    "        f\"\\nPage content: {doc[0].page_content}\\n\\n\"\n",
    "    return output\n"
   ]
  },
  {
   "cell_type": "code",
   "execution_count": 52,
   "metadata": {},
   "outputs": [
    {
     "name": "stdout",
     "output_type": "stream",
     "text": [
      "Reproduction is an important concept in computer science, particularly in the context of evolutionary algorithms and neural network training. The principles of sexual reproduction, such as gene mixing and mutation, are often applied to optimize algorithms, enhancing robustness and adaptability in machine learning models. This concept is exemplified in the work that discusses dropout techniques in neural networks, drawing parallels between biological evolution and algorithmic improvement to prevent overfitting and enhance performance^1.\n",
      "\n",
      "---\n",
      "^1 Srivastava, Nitish et al. \"Dropout: A Simple Way to Prevent Neural Networks from Overfitting,\" page 3.\n"
     ]
    }
   ],
   "source": [
    "query = \"Is reproduction an important concept in computer science?\"\n",
    "num_context_chunks = 10\n",
    "results = vectorstore.similarity_search_with_score(\n",
    "    query , k=num_context_chunks\n",
    ")\n",
    "\n",
    "formatted_context = format_context(results)\n",
    "prompt = \"Systemprompt:\\nYou are an assistant for question-answering tasks. Use the following pieces of \" + \\\n",
    "\"retrieved context to answer the question and give reference to the publication title, authors \" +\\\n",
    "\"and page as footnotes but without duplicate references. If you don't know the answer, just say \"+ \\\n",
    "\"that you don't know. Please keep the answer concise and precise.\\n\\n\" +\\\n",
    "f\"Question:\\n{query}\\n\\n\" +\\\n",
    "f\"Context:\\n{formatted_context}\"\n",
    "\n",
    "answer = llm.call_as_llm(prompt)\n",
    "print(answer)"
   ]
  }
 ],
 "metadata": {
  "kernelspec": {
   "display_name": "langchain",
   "language": "python",
   "name": "python3"
  },
  "language_info": {
   "codemirror_mode": {
    "name": "ipython",
    "version": 3
   },
   "file_extension": ".py",
   "mimetype": "text/x-python",
   "name": "python",
   "nbconvert_exporter": "python",
   "pygments_lexer": "ipython3",
   "version": "3.11.0"
  }
 },
 "nbformat": 4,
 "nbformat_minor": 2
}
