{
 "cells": [
  {
   "cell_type": "code",
   "execution_count": 1,
   "metadata": {},
   "outputs": [],
   "source": [
    "import boto3\n",
    "import os\n",
    "import logging\n",
    "import pprint\n",
    "import json\n",
    "import pandas as pd"
   ]
  },
  {
   "cell_type": "code",
   "execution_count": 11,
   "metadata": {},
   "outputs": [],
   "source": [
    "bedrock_agent_runtime_client = boto3.client('bedrock-agent-runtime', region_name='eu-central-1')\n",
    "logging.basicConfig(format='[%(asctime)s] p%(process)s {%(filename)s:%(lineno)d} %(levelname)s - %(message)s', level=logging.INFO)\n",
    "logger = logging.getLogger(__name__)\n",
    "dynamodb = boto3.resource('dynamodb', region_name='eu-central-1')\n",
    "\n",
    "def invoke_agent_helper(query, session_id, agent_id, alias_id, enable_trace=False, session_state=None):\n",
    "    end_session: bool = False\n",
    "    if not session_state:\n",
    "        session_state = {}\n",
    "\n",
    "    # invoke the agent API\n",
    "    agent_response = bedrock_agent_runtime_client.invoke_agent(\n",
    "        inputText=query,\n",
    "        agentId=agent_id,\n",
    "        agentAliasId=alias_id,\n",
    "        sessionId=session_id,\n",
    "        enableTrace=enable_trace,\n",
    "        endSession=end_session,\n",
    "        sessionState=session_state\n",
    "    )\n",
    "\n",
    "    if enable_trace:\n",
    "        logger.info(pprint.pprint(agent_response))\n",
    "\n",
    "    event_stream = agent_response['completion']\n",
    "    try:\n",
    "        for event in event_stream:\n",
    "            if 'chunk' in event:\n",
    "                data = event['chunk']['bytes']\n",
    "                if enable_trace:\n",
    "                    logger.info(f\"Final answer ->\\n{data.decode('utf8')}\")\n",
    "                agent_answer = data.decode('utf8')\n",
    "                return agent_answer\n",
    "                # End event indicates that the request finished successfully\n",
    "            elif 'trace' in event:\n",
    "                if enable_trace:\n",
    "                    logger.info(json.dumps(event['trace'], indent=2))\n",
    "            else:\n",
    "                raise Exception(\"unexpected event.\", event)\n",
    "    except Exception as e:\n",
    "        raise Exception(\"unexpected event.\", e)"
   ]
  },
  {
   "cell_type": "code",
   "execution_count": 12,
   "metadata": {},
   "outputs": [
    {
     "name": "stdout",
     "output_type": "stream",
     "text": [
      "YOLO (You Only Look Once) is a popular object detection algorithm that frames object detection as a single regression problem. It uses a single neural network to predict bounding boxes and associated class probabilities for objects in an image in a single pass. The key idea behind YOLO is to divide the input image into an S x S grid, where each grid cell predicts B bounding boxes, confidence scores, and C class probabilities. The latest version, YOLOv8, introduces improvements such as a new neural network architecture that utilizes both Feature Pyramid Network (FPN) and Path Aggregation Network (PAN), as well as a new labeling tool to simplify the annotation process for training data. It also incorporates advanced post-processing techniques like Soft-NMS to refine detection results and improve accuracy.\n",
      "CPU times: user 53.1 ms, sys: 3.23 ms, total: 56.3 ms\n",
      "Wall time: 7.36 s\n"
     ]
    }
   ],
   "source": [
    "%%time\n",
    "import uuid\n",
    "\n",
    "agent_id = 'XVOW2OYC6J'\n",
    "alias_id = 'L12GCIKFOD'\n",
    "session_id:str = str(uuid.uuid1())\n",
    "query = \"What is yolo?\"\n",
    "response = invoke_agent_helper(query, session_id, agent_id, alias_id)\n",
    "print(response)"
   ]
  }
 ],
 "metadata": {
  "kernelspec": {
   "display_name": "Python 3",
   "language": "python",
   "name": "python3"
  },
  "language_info": {
   "codemirror_mode": {
    "name": "ipython",
    "version": 3
   },
   "file_extension": ".py",
   "mimetype": "text/x-python",
   "name": "python",
   "nbconvert_exporter": "python",
   "pygments_lexer": "ipython3",
   "version": "3.10.12"
  }
 },
 "nbformat": 4,
 "nbformat_minor": 2
}
